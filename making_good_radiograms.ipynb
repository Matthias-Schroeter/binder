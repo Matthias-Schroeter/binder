{
 "cells": [
  {
   "cell_type": "code",
   "execution_count": 16,
   "metadata": {},
   "outputs": [],
   "source": [
    "import numpy as np\n",
    "import matplotlib.pyplot as plt\n",
    "\n",
    "import ipywidgets as widgets\n",
    "from IPython.display import display"
   ]
  },
  {
   "cell_type": "code",
   "execution_count": 33,
   "metadata": {},
   "outputs": [],
   "source": [
    "slider_voltage = widgets.IntSlider(\n",
    "    min=30,\n",
    "    max=180,\n",
    "    step=5,\n",
    "    description='max. voltage',\n",
    "    value=120,\n",
    "    continuous_update=False\n",
    ")\n",
    "\n",
    "slider_current = widgets.IntSlider(\n",
    "    min=10,\n",
    "    max=400,\n",
    "    step=10,\n",
    "    description='max. current',\n",
    "    value=80,\n",
    "    continuous_update=False\n",
    ")\n",
    "\n",
    "# define two event handlers        \n",
    "def slider_voltage_eventhandler(change):\n",
    "    print_result(change.new, slider_current.value)\n",
    "    \n",
    "def slider_current_eventhandler(change):\n",
    "    print_result(slider_voltage.value, change.new)\n",
    "    \n",
    "# bind event handlers to widgets    \n",
    "slider_voltage.observe(slider_voltage_eventhandler, names='value')\n",
    "slider_current.observe(slider_current_eventhandler, names='value')        "
   ]
  },
  {
   "cell_type": "code",
   "execution_count": 40,
   "metadata": {},
   "outputs": [],
   "source": [
    "plot_output = widgets.Output()\n",
    "\n",
    "# this function will be called by both event handlers\n",
    "def print_result(voltage, current):\n",
    "    plot_output.clear_output()\n",
    "    \n",
    "    x_data = np.arange(30,voltage,1)\n",
    "    y_data = current *(1 - x_data/voltage)\n",
    "      \n",
    "        \n",
    "    with plot_output:\n",
    "        plt.xlabel('voltage (kV)', size = 17)\n",
    "        plt.xlabel('current (muA)', size = 17)\n",
    "        plt.plot(x_data,y_data)\n",
    "        plt.show()    "
   ]
  },
  {
   "cell_type": "code",
   "execution_count": 41,
   "metadata": {},
   "outputs": [
    {
     "data": {
      "application/vnd.jupyter.widget-view+json": {
       "model_id": "c9fac5f187814b038d802cf065114179",
       "version_major": 2,
       "version_minor": 0
      },
      "text/plain": [
       "HBox(children=(IntSlider(value=165, continuous_update=False, description='max. voltage', max=180, min=30, step…"
      ]
     },
     "metadata": {},
     "output_type": "display_data"
    }
   ],
   "source": [
    "input_widgets = widgets.HBox([slider_voltage, slider_current])\n",
    "display(input_widgets)"
   ]
  },
  {
   "cell_type": "code",
   "execution_count": 42,
   "metadata": {},
   "outputs": [
    {
     "data": {
      "application/vnd.jupyter.widget-view+json": {
       "model_id": "1d5e44f4d1094d6cbcd96a477d59dfaa",
       "version_major": 2,
       "version_minor": 0
      },
      "text/plain": [
       "Output()"
      ]
     },
     "metadata": {},
     "output_type": "display_data"
    }
   ],
   "source": [
    "display(plot_output)"
   ]
  },
  {
   "cell_type": "code",
   "execution_count": null,
   "metadata": {},
   "outputs": [],
   "source": []
  }
 ],
 "metadata": {
  "kernelspec": {
   "display_name": "Python 3",
   "language": "python",
   "name": "python3"
  },
  "language_info": {
   "codemirror_mode": {
    "name": "ipython",
    "version": 3
   },
   "file_extension": ".py",
   "mimetype": "text/x-python",
   "name": "python",
   "nbconvert_exporter": "python",
   "pygments_lexer": "ipython3",
   "version": "3.6.8"
  }
 },
 "nbformat": 4,
 "nbformat_minor": 4
}
